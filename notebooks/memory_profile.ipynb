{
 "cells": [
  {
   "cell_type": "code",
   "execution_count": 23,
   "id": "1f079672",
   "metadata": {},
   "outputs": [],
   "source": [
    "import sys, pathlib\n",
    "\n",
    "ROOT = pathlib.Path.cwd().resolve().parents[0]\n",
    "if str(ROOT) not in sys.path:\n",
    "    sys.path.insert(0, str(ROOT))"
   ]
  },
  {
   "cell_type": "code",
   "execution_count": 29,
   "id": "ea92dad0",
   "metadata": {},
   "outputs": [
    {
     "name": "stdout",
     "output_type": "stream",
     "text": [
      "The memory_profiler extension is already loaded. To reload it, use:\n",
      "  %reload_ext memory_profiler\n"
     ]
    }
   ],
   "source": [
    "%load_ext memory_profiler\n",
    "\n",
    "import numpy as np\n",
    "import psutil, os, time, datetime\n",
    "import matplotlib.pyplot as plt\n",
    "import torch\n",
    "\n",
    "import importlib\n",
    "from experiments._utils import mem_funcs\n",
    "importlib.reload(mem_funcs);"
   ]
  },
  {
   "cell_type": "code",
   "execution_count": null,
   "id": "1305ecb5",
   "metadata": {},
   "outputs": [],
   "source": [
    "# def allocate_arrays(power_max: int = 12, backend: str = \"numpy\"):\n",
    "#     \"\"\"\n",
    "#     Allocate arrays of size 2**k elements (float32) for k = 0..power_max.\n",
    "#     Returns the list so Python keeps them alive (forces the RAM hit).\n",
    "#     \"\"\"\n",
    "#     arrs = []\n",
    "#     for k in range(power_max + 1):\n",
    "#         n = 2 ** k\n",
    "#         if backend == \"numpy\":\n",
    "#             arrs.append(np.empty(n, dtype=np.float32))\n",
    "#         elif backend == \"torch\":\n",
    "#             arrs.append(torch.empty(n, dtype=torch.float32, device=\"cpu\"))\n",
    "#         else:\n",
    "#             raise ValueError(\"backend must be 'numpy' or 'torch'\")\n",
    "#     return arrs\n"
   ]
  },
  {
   "cell_type": "code",
   "execution_count": null,
   "id": "696e67a5",
   "metadata": {},
   "outputs": [],
   "source": [
    "from memory_profiler import memory_usage\n",
    "\n",
    "def sample_and_plot(power_max=12, backend=\"numpy\", touch=True):\n",
    "    # sample RAM every 0.1 s while allocate_arrays runs\n",
    "    mem_trace = memory_usage(\n",
    "    (mem_funcs.allocate_arrays, (), dict(power_max=12, backend=\"numpy\", touch=True)),\n",
    "    interval=0.1, retval=True, include_children=True\n",
    ")\n",
    "    # build x-axis in seconds\n",
    "    dt = 0.1\n",
    "    x = [i * dt for i in range(len(mem_trace))]\n",
    "\n",
    "    # plot\n",
    "    plt.figure(figsize=(6, 3))\n",
    "    plt.plot(x, mem_trace)\n",
    "    plt.xlabel(\"seconds\")\n",
    "    plt.ylabel(\"Resident RAM (MiB)\")\n",
    "    plt.title(f\"RAM footprint while allocating 2**k arrays ({backend})\")\n",
    "    plt.tight_layout()\n",
    "    plt.show()\n",
    "\n",
    "sample_and_plot(power_max=12, backend=\"numpy\", touch=True)\n"
   ]
  },
  {
   "cell_type": "code",
   "execution_count": 5,
   "id": "347b8bdf",
   "metadata": {},
   "outputs": [
    {
     "data": {
      "image/png": "[encoded data removed]",
      "text/plain": [
       "<Figure size 600x300 with 1 Axes>"
      ]
     },
     "metadata": {},
     "output_type": "display_data"
    }
   ],
   "source": [
    "sample_and_plot(power_max=12, backend=\"torch\")\n"
   ]
  },
  {
   "cell_type": "code",
   "execution_count": 35,
   "id": "128b0328",
   "metadata": {},
   "outputs": [
    {
     "name": "stdout",
     "output_type": "stream",
     "text": [
      "\n"
     ]
    },
    {
     "name": "stdout",
     "output_type": "stream",
     "text": [
      "Filename: C:\\Users\\simbarashe.timire\\Documents\\Projects\\lab\\experiments\\_utils\\mem_funcs.py\n",
      "\n",
      "Line #    Mem usage    Increment  Occurrences   Line Contents\n",
      "=============================================================\n",
      "     4    262.1 MiB    262.1 MiB           1   def allocate_arrays(power_max: int = 12, backend: str = \"numpy\"):\n",
      "     5                                             \"\"\"\n",
      "     6                                             Allocate arrays of size 2**k elements (float32) for k = 0..power_max.\n",
      "     7                                             Keeps them in a list so they stay resident in RAM.\n",
      "     8                                             \"\"\"\n",
      "     9    262.1 MiB      0.0 MiB           1       arrs = []\n",
      "    10    262.1 MiB      0.0 MiB          14       for k in range(power_max + 1):\n",
      "    11    262.1 MiB      0.0 MiB          13           n = 2 ** k\n",
      "    12    262.1 MiB      0.0 MiB          13           if backend == \"numpy\":\n",
      "    13    262.1 MiB      0.0 MiB          13               arrs.append(np.empty(n, dtype=np.float32))\n",
      "    14                                                 elif backend == \"torch\":\n",
      "    15                                                     arrs.append(torch.empty(n, dtype=torch.float32, device=\"cpu\"))\n",
      "    16                                                 else:\n",
      "    17                                                     raise ValueError(\"backend must be 'numpy' or 'torch'\")\n",
      "    18    262.1 MiB      0.0 MiB           1       return arrs"
     ]
    }
   ],
   "source": [
    "%mprun -f mem_funcs.allocate_arrays mem_funcs.allocate_arrays(power_max=12, backend=\"numpy\")"
   ]
  },
  {
   "cell_type": "code",
   "execution_count": 34,
   "id": "1a020c61",
   "metadata": {},
   "outputs": [
    {
     "name": "stdout",
     "output_type": "stream",
     "text": [
      "\n"
     ]
    },
    {
     "name": "stdout",
     "output_type": "stream",
     "text": [
      "Filename: C:\\Users\\simbarashe.timire\\Documents\\Projects\\lab\\experiments\\_utils\\mem_funcs.py\n",
      "\n",
      "Line #    Mem usage    Increment  Occurrences   Line Contents\n",
      "=============================================================\n",
      "     4    262.1 MiB    262.1 MiB           1   def allocate_arrays(power_max: int = 12, backend: str = \"numpy\"):\n",
      "     5                                             \"\"\"\n",
      "     6                                             Allocate arrays of size 2**k elements (float32) for k = 0..power_max.\n",
      "     7                                             Keeps them in a list so they stay resident in RAM.\n",
      "     8                                             \"\"\"\n",
      "     9    262.1 MiB      0.0 MiB           1       arrs = []\n",
      "    10    262.1 MiB      0.0 MiB          14       for k in range(power_max + 1):\n",
      "    11    262.1 MiB      0.0 MiB          13           n = 2 ** k\n",
      "    12    262.1 MiB      0.0 MiB          13           if backend == \"numpy\":\n",
      "    13                                                     arrs.append(np.empty(n, dtype=np.float32))\n",
      "    14    262.1 MiB      0.0 MiB          13           elif backend == \"torch\":\n",
      "    15    262.1 MiB      0.0 MiB          13               arrs.append(torch.empty(n, dtype=torch.float32, device=\"cpu\"))\n",
      "    16                                                 else:\n",
      "    17                                                     raise ValueError(\"backend must be 'numpy' or 'torch'\")\n",
      "    18    262.1 MiB      0.0 MiB           1       return arrs"
     ]
    }
   ],
   "source": [
    "%mprun -f mem_funcs.allocate_arrays mem_funcs.allocate_arrays(power_max=12, backend=\"torch\")\n"
   ]
  }
 ],
 "metadata": {
  "kernelspec": {
   "display_name": "Python 3",
   "language": "python",
   "name": "python3"
  },
  "language_info": {
   "codemirror_mode": {
    "name": "ipython",
    "version": 3
   },
   "file_extension": ".py",
   "mimetype": "text/x-python",
   "name": "python",
   "nbconvert_exporter": "python",
   "pygments_lexer": "ipython3",
   "version": "3.13.5"
  }
 },
 "nbformat": 4,
 "nbformat_minor": 5
}
